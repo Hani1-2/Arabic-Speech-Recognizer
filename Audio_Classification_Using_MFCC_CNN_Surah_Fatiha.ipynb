{
  "nbformat": 4,
  "nbformat_minor": 0,
  "metadata": {
    "colab": {
      "provenance": [],
      "mount_file_id": "https://github.com/Hani1-2/DeepLearningAssignmnt/blob/master/Audio_Classification_Using_MFCC_CNN_Surah_Fatiha.ipynb",
      "authorship_tag": "ABX9TyPdFNWDekKFA2XGxk7AwQJ9",
      "include_colab_link": true
    },
    "kernelspec": {
      "name": "python3",
      "display_name": "Python 3"
    },
    "language_info": {
      "name": "python"
    },
    "accelerator": "GPU",
    "gpuClass": "standard"
  },
  "cells": [
    {
      "cell_type": "markdown",
      "metadata": {
        "id": "view-in-github",
        "colab_type": "text"
      },
      "source": [
        "<a href=\"https://colab.research.google.com/github/Hani1-2/Arabic-Speech-Recognizer/blob/main/Audio_Classification_Using_MFCC_CNN_Surah_Fatiha.ipynb\" target=\"_parent\"><img src=\"https://colab.research.google.com/assets/colab-badge.svg\" alt=\"Open In Colab\"/></a>"
      ]
    },
    {
      "cell_type": "markdown",
      "source": [
        "## Load Data"
      ],
      "metadata": {
        "id": "OamN8IBktMWV"
      }
    },
    {
      "cell_type": "code",
      "source": [
        "import json\n",
        "import numpy as np\n",
        "from sklearn.model_selection import train_test_split\n",
        "import matplotlib.pyplot as plt\n",
        "import tensorflow.keras as keras\n",
        "\n",
        "# path to json file that stores MFCCs and genre labels for each processed segment\n",
        "DATA_PATH = \"/content/drive/MyDrive/surah_fatiha/data_surah_1.json\"\n",
        "\n",
        "def load_data(data_path):\n",
        "    \"\"\"Loads training dataset from json file.\n",
        "        :param data_path (str): Path to json file containing data\n",
        "        :return X (ndarray): Inputs\n",
        "        :return y (ndarray): Targets\n",
        "    \"\"\"\n",
        "\n",
        "    with open(data_path, \"r\") as fp:\n",
        "        data = json.load(fp)\n",
        "\n",
        "    # convert lists to numpy arrays\n",
        "    X = np.array(data[\"mfcc\"])\n",
        "    y = np.array(data[\"labels\"])\n",
        "\n",
        "    print(\"Data succesfully loaded!\")\n",
        "\n",
        "    return  X, y\n"
      ],
      "metadata": {
        "id": "1unMn2N0tQoC"
      },
      "execution_count": 6,
      "outputs": []
    },
    {
      "cell_type": "markdown",
      "source": [
        "# Plot History"
      ],
      "metadata": {
        "id": "VwHjSamytRI5"
      }
    },
    {
      "cell_type": "code",
      "source": [
        "def plot_history(history):\n",
        "    \"\"\"Plots accuracy/loss for training/validation set as a function of the epochs\n",
        "        :param history: Training history of model\n",
        "        :return:\n",
        "    \"\"\"\n",
        "\n",
        "    fig, axs = plt.subplots(2)\n",
        "\n",
        "    # create accuracy sublpot\n",
        "    axs[0].plot(history.history[\"accuracy\"], label=\"train accuracy\")\n",
        "    axs[0].plot(history.history[\"val_accuracy\"], label=\"test accuracy\")\n",
        "    axs[0].set_ylabel(\"Accuracy\")\n",
        "    axs[0].legend(loc=\"lower right\")\n",
        "    axs[0].set_title(\"Accuracy eval\")\n",
        "\n",
        "    # create error sublpot\n",
        "    axs[1].plot(history.history[\"loss\"], label=\"train error\")\n",
        "    axs[1].plot(history.history[\"val_loss\"], label=\"test error\")\n",
        "    axs[1].set_ylabel(\"Error\")\n",
        "    axs[1].set_xlabel(\"Epoch\")\n",
        "    axs[1].legend(loc=\"upper right\")\n",
        "    axs[1].set_title(\"Error eval\")\n",
        "\n",
        "    plt.show()"
      ],
      "metadata": {
        "id": "oKL4Uj0gtU9I"
      },
      "execution_count": 7,
      "outputs": []
    },
    {
      "cell_type": "markdown",
      "source": [
        "# Prepare Dataset"
      ],
      "metadata": {
        "id": "tOyNPDr89Etk"
      }
    },
    {
      "cell_type": "code",
      "source": [
        "def prepare_datasets(test_size, validation_size):\n",
        "    \"\"\"Loads data and splits it into train, validation and test sets.\n",
        "    :param test_size (float): Value in [0, 1] indicating percentage of data set to allocate to test split\n",
        "    :param validation_size (float): Value in [0, 1] indicating percentage of train set to allocate to validation split\n",
        "    :return X_train (ndarray): Input training set\n",
        "    :return X_validation (ndarray): Input validation set\n",
        "    :return X_test (ndarray): Input test set\n",
        "    :return y_train (ndarray): Target training set\n",
        "    :return y_validation (ndarray): Target validation set\n",
        "    :return y_test (ndarray): Target test set\n",
        "    \"\"\"\n",
        "\n",
        "    # load data\n",
        "    X, y = load_data(DATA_PATH)\n",
        "\n",
        "    # create train, validation and test split\n",
        "    X_train, X_test, y_train, y_test = train_test_split(X, y, test_size=test_size)\n",
        "    X_train, X_validation, y_train, y_validation = train_test_split(X_train, y_train, test_size=validation_size)\n",
        "\n",
        "    # add an axis to input sets\n",
        "    X_train = X_train[..., np.newaxis]\n",
        "    X_validation = X_validation[..., np.newaxis]\n",
        "    X_test = X_test[..., np.newaxis]\n",
        "\n",
        "    return X_train, X_validation, X_test, y_train, y_validation, y_test\n"
      ],
      "metadata": {
        "id": "I98RRteJ3kCt"
      },
      "execution_count": 8,
      "outputs": []
    },
    {
      "cell_type": "markdown",
      "source": [
        "# Build Model"
      ],
      "metadata": {
        "id": "9T6b2ia29OGX"
      }
    },
    {
      "cell_type": "code",
      "source": [
        "def build_model(input_shape):\n",
        "    \"\"\"Generates CNN model\n",
        "    :param input_shape (tuple): Shape of input set\n",
        "    :return model: CNN model\n",
        "    \"\"\"\n",
        "\n",
        "    # build network topology\n",
        "    model = keras.Sequential()\n",
        "\n",
        "    # 1st conv layer\n",
        "    model.add(keras.layers.Conv2D(32, (3, 3), activation='relu', input_shape=input_shape))\n",
        "    model.add(keras.layers.MaxPooling2D((3, 3), strides=(2, 2), padding='same'))\n",
        "    model.add(keras.layers.BatchNormalization())\n",
        "\n",
        "    # 2nd conv layer\n",
        "    model.add(keras.layers.Conv2D(64, (3, 3), activation='relu'))\n",
        "    model.add(keras.layers.MaxPooling2D((3, 3), strides=(2, 2), padding='same'))\n",
        "    model.add(keras.layers.BatchNormalization())\n",
        "\n",
        "    # # 3rd conv layer\n",
        "    # model.add(keras.layers.Conv2D(128, (2, 2), activation='relu'))\n",
        "    # model.add(keras.layers.MaxPooling2D((2, 2), strides=(2, 2), padding='same'))\n",
        "    # model.add(keras.layers.BatchNormalization())\n",
        "\n",
        "    # flatten output and feed it into dense layer\n",
        "    model.add(keras.layers.Flatten())\n",
        "    model.add(keras.layers.Dense(256, activation='relu'))\n",
        "    model.add(keras.layers.Dropout(0.2))\n",
        "\n",
        "    # output layer\n",
        "    model.add(keras.layers.Dense(28, activation='softmax'))\n",
        "\n",
        "    return model"
      ],
      "metadata": {
        "id": "D4mdf_k36O_V"
      },
      "execution_count": 9,
      "outputs": []
    },
    {
      "cell_type": "code",
      "source": [
        "def predict(model, X, y):\n",
        "    \"\"\"Predict a single sample using the trained model\n",
        "    :param model: Trained classifier\n",
        "    :param X: Input data\n",
        "    :param y (int): Target\n",
        "    \"\"\"\n",
        "\n",
        "    # add a dimension to input data for sample - model.predict() expects a 4d array in this case\n",
        "    X = X[np.newaxis, ...] # array shape (1, 130, 13, 1)\n",
        "\n",
        "    # perform prediction\n",
        "    prediction = model.predict(X)\n",
        "\n",
        "    # get index with max value\n",
        "    predicted_index = np.argmax(prediction, axis=1)\n",
        "\n",
        "    print(\"Target: {}, Predicted label: {}\".format(y, predicted_index))\n"
      ],
      "metadata": {
        "id": "XvcSJBv59S7z"
      },
      "execution_count": 10,
      "outputs": []
    },
    {
      "cell_type": "code",
      "source": [
        "if __name__ == \"__main__\":\n",
        "\n",
        "    # get train, validation, test splits\n",
        "    X_train, X_validation, X_test, y_train, y_validation, y_test = prepare_datasets(0.25, 0.2)\n",
        "    # create network\n",
        "    input_shape = (X_train.shape[1], X_train.shape[2], 1)\n",
        "    model = build_model(input_shape)\n",
        "\n",
        "    # compile model\n",
        "    optimiser = keras.optimizers.Adam(learning_rate=0.0001)\n",
        "    model.compile(optimizer=optimiser,\n",
        "                  loss='sparse_categorical_crossentropy',\n",
        "                  metrics=['accuracy'])\n",
        "\n",
        "    model.summary()\n",
        "\n",
        "    # train model\n",
        "    history = model.fit(X_train, y_train, validation_data=(X_validation, y_validation), batch_size=32, epochs=100)\n",
        "\n",
        "    # plot accuracy/error for training and validation\n",
        "    plot_history(history)\n",
        "\n",
        "    # evaluate model on test set\n",
        "    test_loss, test_acc = model.evaluate(X_test, y_test, verbose=2)\n",
        "    print('\\nTest accuracy:', test_acc)\n",
        "\n",
        "    # pick a sample to predict from the test set\n",
        "    X_to_predict = X_test[100]\n",
        "    y_to_predict = y_test[100]\n",
        "\n",
        "    # predict sample\n",
        "    predict(model, X_to_predict, y_to_predict)\n"
      ],
      "metadata": {
        "colab": {
          "base_uri": "https://localhost:8080/",
          "height": 1000
        },
        "id": "SFPlVTH-9Vce",
        "outputId": "1c858297-f42a-4b4d-e1f8-48e08f5da98b"
      },
      "execution_count": 11,
      "outputs": [
        {
          "output_type": "stream",
          "name": "stdout",
          "text": [
            "Data succesfully loaded!\n",
            "Model: \"sequential\"\n",
            "_________________________________________________________________\n",
            " Layer (type)                Output Shape              Param #   \n",
            "=================================================================\n",
            " conv2d (Conv2D)             (None, 7, 11, 32)         320       \n",
            "                                                                 \n",
            " max_pooling2d (MaxPooling2D  (None, 4, 6, 32)         0         \n",
            " )                                                               \n",
            "                                                                 \n",
            " batch_normalization (BatchN  (None, 4, 6, 32)         128       \n",
            " ormalization)                                                   \n",
            "                                                                 \n",
            " conv2d_1 (Conv2D)           (None, 2, 4, 64)          18496     \n",
            "                                                                 \n",
            " max_pooling2d_1 (MaxPooling  (None, 1, 2, 64)         0         \n",
            " 2D)                                                             \n",
            "                                                                 \n",
            " batch_normalization_1 (Batc  (None, 1, 2, 64)         256       \n",
            " hNormalization)                                                 \n",
            "                                                                 \n",
            " flatten (Flatten)           (None, 128)               0         \n",
            "                                                                 \n",
            " dense (Dense)               (None, 256)               33024     \n",
            "                                                                 \n",
            " dropout (Dropout)           (None, 256)               0         \n",
            "                                                                 \n",
            " dense_1 (Dense)             (None, 28)                7196      \n",
            "                                                                 \n",
            "=================================================================\n",
            "Total params: 59,420\n",
            "Trainable params: 59,228\n",
            "Non-trainable params: 192\n",
            "_________________________________________________________________\n",
            "Epoch 1/100\n",
            "2102/2102 [==============================] - 15s 6ms/step - loss: 2.7052 - accuracy: 0.1944 - val_loss: 2.2834 - val_accuracy: 0.3079\n",
            "Epoch 2/100\n",
            "2102/2102 [==============================] - 11s 5ms/step - loss: 2.1812 - accuracy: 0.3237 - val_loss: 1.9222 - val_accuracy: 0.4162\n",
            "Epoch 3/100\n",
            "2102/2102 [==============================] - 12s 6ms/step - loss: 1.8910 - accuracy: 0.4041 - val_loss: 1.6702 - val_accuracy: 0.4846\n",
            "Epoch 4/100\n",
            "2102/2102 [==============================] - 10s 5ms/step - loss: 1.6877 - accuracy: 0.4603 - val_loss: 1.4906 - val_accuracy: 0.5380\n",
            "Epoch 5/100\n",
            "2102/2102 [==============================] - 11s 5ms/step - loss: 1.5359 - accuracy: 0.5064 - val_loss: 1.3469 - val_accuracy: 0.5848\n",
            "Epoch 6/100\n",
            "2102/2102 [==============================] - 11s 5ms/step - loss: 1.4069 - accuracy: 0.5398 - val_loss: 1.2233 - val_accuracy: 0.6282\n",
            "Epoch 7/100\n",
            "2102/2102 [==============================] - 11s 5ms/step - loss: 1.2996 - accuracy: 0.5781 - val_loss: 1.1200 - val_accuracy: 0.6556\n",
            "Epoch 8/100\n",
            "2102/2102 [==============================] - 11s 5ms/step - loss: 1.2103 - accuracy: 0.6043 - val_loss: 1.0373 - val_accuracy: 0.6822\n",
            "Epoch 9/100\n",
            "2102/2102 [==============================] - 12s 6ms/step - loss: 1.1271 - accuracy: 0.6333 - val_loss: 0.9593 - val_accuracy: 0.7086\n",
            "Epoch 10/100\n",
            "2102/2102 [==============================] - 10s 5ms/step - loss: 1.0654 - accuracy: 0.6518 - val_loss: 0.8954 - val_accuracy: 0.7305\n",
            "Epoch 11/100\n",
            "2102/2102 [==============================] - 11s 5ms/step - loss: 1.0029 - accuracy: 0.6716 - val_loss: 0.8466 - val_accuracy: 0.7471\n",
            "Epoch 12/100\n",
            "2102/2102 [==============================] - 11s 5ms/step - loss: 0.9510 - accuracy: 0.6879 - val_loss: 0.7867 - val_accuracy: 0.7655\n",
            "Epoch 13/100\n",
            "2102/2102 [==============================] - 11s 5ms/step - loss: 0.8977 - accuracy: 0.7069 - val_loss: 0.7472 - val_accuracy: 0.7754\n",
            "Epoch 14/100\n",
            "2102/2102 [==============================] - 12s 6ms/step - loss: 0.8572 - accuracy: 0.7208 - val_loss: 0.7044 - val_accuracy: 0.7869\n",
            "Epoch 15/100\n",
            "2102/2102 [==============================] - 12s 6ms/step - loss: 0.8158 - accuracy: 0.7333 - val_loss: 0.6711 - val_accuracy: 0.7985\n",
            "Epoch 16/100\n",
            "2102/2102 [==============================] - 10s 5ms/step - loss: 0.7826 - accuracy: 0.7422 - val_loss: 0.6369 - val_accuracy: 0.8086\n",
            "Epoch 17/100\n",
            "2102/2102 [==============================] - 11s 5ms/step - loss: 0.7510 - accuracy: 0.7532 - val_loss: 0.6013 - val_accuracy: 0.8222\n",
            "Epoch 18/100\n",
            "2102/2102 [==============================] - 11s 5ms/step - loss: 0.7144 - accuracy: 0.7656 - val_loss: 0.5656 - val_accuracy: 0.8342\n",
            "Epoch 19/100\n",
            "2102/2102 [==============================] - 11s 5ms/step - loss: 0.6886 - accuracy: 0.7748 - val_loss: 0.5400 - val_accuracy: 0.8406\n",
            "Epoch 20/100\n",
            "2102/2102 [==============================] - 11s 5ms/step - loss: 0.6685 - accuracy: 0.7806 - val_loss: 0.5190 - val_accuracy: 0.8467\n",
            "Epoch 21/100\n",
            "2102/2102 [==============================] - 11s 5ms/step - loss: 0.6463 - accuracy: 0.7866 - val_loss: 0.5041 - val_accuracy: 0.8495\n",
            "Epoch 22/100\n",
            "2102/2102 [==============================] - 11s 5ms/step - loss: 0.6183 - accuracy: 0.7972 - val_loss: 0.4946 - val_accuracy: 0.8506\n",
            "Epoch 23/100\n",
            "2102/2102 [==============================] - 11s 5ms/step - loss: 0.5999 - accuracy: 0.8030 - val_loss: 0.4660 - val_accuracy: 0.8634\n",
            "Epoch 24/100\n",
            "2102/2102 [==============================] - 11s 5ms/step - loss: 0.5856 - accuracy: 0.8084 - val_loss: 0.4474 - val_accuracy: 0.8691\n",
            "Epoch 25/100\n",
            "2102/2102 [==============================] - 11s 5ms/step - loss: 0.5646 - accuracy: 0.8157 - val_loss: 0.4370 - val_accuracy: 0.8728\n",
            "Epoch 26/100\n",
            "2102/2102 [==============================] - 11s 5ms/step - loss: 0.5479 - accuracy: 0.8179 - val_loss: 0.4264 - val_accuracy: 0.8737\n",
            "Epoch 27/100\n",
            "2102/2102 [==============================] - 10s 5ms/step - loss: 0.5310 - accuracy: 0.8234 - val_loss: 0.4038 - val_accuracy: 0.8828\n",
            "Epoch 28/100\n",
            "2102/2102 [==============================] - 11s 5ms/step - loss: 0.5197 - accuracy: 0.8289 - val_loss: 0.3872 - val_accuracy: 0.8894\n",
            "Epoch 29/100\n",
            "2102/2102 [==============================] - 11s 5ms/step - loss: 0.5025 - accuracy: 0.8352 - val_loss: 0.3673 - val_accuracy: 0.8959\n",
            "Epoch 30/100\n",
            "2102/2102 [==============================] - 11s 5ms/step - loss: 0.4904 - accuracy: 0.8380 - val_loss: 0.3635 - val_accuracy: 0.8948\n",
            "Epoch 31/100\n",
            "2102/2102 [==============================] - 11s 5ms/step - loss: 0.4775 - accuracy: 0.8437 - val_loss: 0.3511 - val_accuracy: 0.8982\n",
            "Epoch 32/100\n",
            "2102/2102 [==============================] - 11s 5ms/step - loss: 0.4681 - accuracy: 0.8460 - val_loss: 0.3322 - val_accuracy: 0.9061\n",
            "Epoch 33/100\n",
            "2102/2102 [==============================] - 11s 5ms/step - loss: 0.4568 - accuracy: 0.8497 - val_loss: 0.3446 - val_accuracy: 0.8988\n",
            "Epoch 34/100\n",
            "2102/2102 [==============================] - 11s 5ms/step - loss: 0.4452 - accuracy: 0.8511 - val_loss: 0.3164 - val_accuracy: 0.9091\n",
            "Epoch 35/100\n",
            "2102/2102 [==============================] - 11s 5ms/step - loss: 0.4357 - accuracy: 0.8562 - val_loss: 0.3206 - val_accuracy: 0.9077\n",
            "Epoch 36/100\n",
            "2102/2102 [==============================] - 11s 5ms/step - loss: 0.4247 - accuracy: 0.8605 - val_loss: 0.3042 - val_accuracy: 0.9145\n",
            "Epoch 37/100\n",
            "2102/2102 [==============================] - 12s 6ms/step - loss: 0.4183 - accuracy: 0.8620 - val_loss: 0.3065 - val_accuracy: 0.9099\n",
            "Epoch 38/100\n",
            "2102/2102 [==============================] - 12s 6ms/step - loss: 0.4102 - accuracy: 0.8627 - val_loss: 0.2944 - val_accuracy: 0.9169\n",
            "Epoch 39/100\n",
            "2102/2102 [==============================] - 12s 6ms/step - loss: 0.4018 - accuracy: 0.8669 - val_loss: 0.2914 - val_accuracy: 0.9163\n",
            "Epoch 40/100\n",
            "2102/2102 [==============================] - 11s 5ms/step - loss: 0.3929 - accuracy: 0.8699 - val_loss: 0.2889 - val_accuracy: 0.9162\n",
            "Epoch 41/100\n",
            "2102/2102 [==============================] - 11s 5ms/step - loss: 0.3837 - accuracy: 0.8740 - val_loss: 0.2855 - val_accuracy: 0.9166\n",
            "Epoch 42/100\n",
            "2102/2102 [==============================] - 12s 5ms/step - loss: 0.3772 - accuracy: 0.8744 - val_loss: 0.2651 - val_accuracy: 0.9227\n",
            "Epoch 43/100\n",
            "2102/2102 [==============================] - 11s 5ms/step - loss: 0.3712 - accuracy: 0.8764 - val_loss: 0.2610 - val_accuracy: 0.9242\n",
            "Epoch 44/100\n",
            "2102/2102 [==============================] - 12s 6ms/step - loss: 0.3660 - accuracy: 0.8779 - val_loss: 0.2561 - val_accuracy: 0.9261\n",
            "Epoch 45/100\n",
            "2102/2102 [==============================] - 11s 5ms/step - loss: 0.3623 - accuracy: 0.8793 - val_loss: 0.2649 - val_accuracy: 0.9226\n",
            "Epoch 46/100\n",
            "2102/2102 [==============================] - 11s 5ms/step - loss: 0.3542 - accuracy: 0.8823 - val_loss: 0.2537 - val_accuracy: 0.9255\n",
            "Epoch 47/100\n",
            "2102/2102 [==============================] - 12s 6ms/step - loss: 0.3483 - accuracy: 0.8844 - val_loss: 0.2498 - val_accuracy: 0.9264\n",
            "Epoch 48/100\n",
            "2102/2102 [==============================] - 12s 6ms/step - loss: 0.3442 - accuracy: 0.8843 - val_loss: 0.2435 - val_accuracy: 0.9289\n",
            "Epoch 49/100\n",
            "2102/2102 [==============================] - 12s 6ms/step - loss: 0.3415 - accuracy: 0.8857 - val_loss: 0.2441 - val_accuracy: 0.9275\n",
            "Epoch 50/100\n",
            "2102/2102 [==============================] - 12s 6ms/step - loss: 0.3326 - accuracy: 0.8882 - val_loss: 0.2370 - val_accuracy: 0.9318\n",
            "Epoch 51/100\n",
            "2102/2102 [==============================] - 12s 6ms/step - loss: 0.3252 - accuracy: 0.8903 - val_loss: 0.2220 - val_accuracy: 0.9365\n",
            "Epoch 52/100\n",
            "2102/2102 [==============================] - 11s 5ms/step - loss: 0.3212 - accuracy: 0.8923 - val_loss: 0.2365 - val_accuracy: 0.9305\n",
            "Epoch 53/100\n",
            "2102/2102 [==============================] - 11s 5ms/step - loss: 0.3178 - accuracy: 0.8936 - val_loss: 0.2202 - val_accuracy: 0.9363\n",
            "Epoch 54/100\n",
            "2102/2102 [==============================] - 12s 5ms/step - loss: 0.3144 - accuracy: 0.8946 - val_loss: 0.2265 - val_accuracy: 0.9349\n",
            "Epoch 55/100\n",
            "2102/2102 [==============================] - 12s 6ms/step - loss: 0.3132 - accuracy: 0.8951 - val_loss: 0.2101 - val_accuracy: 0.9390\n",
            "Epoch 56/100\n",
            "2102/2102 [==============================] - 12s 6ms/step - loss: 0.3049 - accuracy: 0.8983 - val_loss: 0.2115 - val_accuracy: 0.9393\n",
            "Epoch 57/100\n",
            "2102/2102 [==============================] - 12s 6ms/step - loss: 0.2998 - accuracy: 0.9001 - val_loss: 0.2161 - val_accuracy: 0.9365\n",
            "Epoch 58/100\n",
            "2102/2102 [==============================] - 11s 5ms/step - loss: 0.2998 - accuracy: 0.9004 - val_loss: 0.2199 - val_accuracy: 0.9362\n",
            "Epoch 59/100\n",
            "2102/2102 [==============================] - 11s 5ms/step - loss: 0.2952 - accuracy: 0.9019 - val_loss: 0.2023 - val_accuracy: 0.9419\n",
            "Epoch 60/100\n",
            "2102/2102 [==============================] - 12s 5ms/step - loss: 0.2890 - accuracy: 0.9036 - val_loss: 0.2002 - val_accuracy: 0.9412\n",
            "Epoch 61/100\n",
            "2102/2102 [==============================] - 11s 5ms/step - loss: 0.2850 - accuracy: 0.9043 - val_loss: 0.1986 - val_accuracy: 0.9421\n",
            "Epoch 62/100\n",
            "2102/2102 [==============================] - 12s 5ms/step - loss: 0.2859 - accuracy: 0.9038 - val_loss: 0.1949 - val_accuracy: 0.9459\n",
            "Epoch 63/100\n",
            "2102/2102 [==============================] - 13s 6ms/step - loss: 0.2807 - accuracy: 0.9065 - val_loss: 0.1904 - val_accuracy: 0.9442\n",
            "Epoch 64/100\n",
            "2102/2102 [==============================] - 12s 6ms/step - loss: 0.2746 - accuracy: 0.9086 - val_loss: 0.1888 - val_accuracy: 0.9463\n",
            "Epoch 65/100\n",
            "2102/2102 [==============================] - 12s 6ms/step - loss: 0.2744 - accuracy: 0.9079 - val_loss: 0.1885 - val_accuracy: 0.9461\n",
            "Epoch 66/100\n",
            "2102/2102 [==============================] - 11s 5ms/step - loss: 0.2694 - accuracy: 0.9092 - val_loss: 0.1832 - val_accuracy: 0.9490\n",
            "Epoch 67/100\n",
            "2102/2102 [==============================] - 11s 5ms/step - loss: 0.2673 - accuracy: 0.9106 - val_loss: 0.1874 - val_accuracy: 0.9462\n",
            "Epoch 68/100\n",
            "2102/2102 [==============================] - 11s 5ms/step - loss: 0.2645 - accuracy: 0.9124 - val_loss: 0.1813 - val_accuracy: 0.9466\n",
            "Epoch 69/100\n",
            "2102/2102 [==============================] - 11s 5ms/step - loss: 0.2617 - accuracy: 0.9120 - val_loss: 0.1738 - val_accuracy: 0.9485\n",
            "Epoch 70/100\n",
            "2102/2102 [==============================] - 13s 6ms/step - loss: 0.2601 - accuracy: 0.9133 - val_loss: 0.1729 - val_accuracy: 0.9500\n",
            "Epoch 71/100\n",
            "2102/2102 [==============================] - 12s 6ms/step - loss: 0.2583 - accuracy: 0.9130 - val_loss: 0.1758 - val_accuracy: 0.9499\n",
            "Epoch 72/100\n",
            "2102/2102 [==============================] - 12s 6ms/step - loss: 0.2573 - accuracy: 0.9130 - val_loss: 0.1706 - val_accuracy: 0.9513\n",
            "Epoch 73/100\n",
            "2102/2102 [==============================] - 10s 5ms/step - loss: 0.2486 - accuracy: 0.9168 - val_loss: 0.1755 - val_accuracy: 0.9486\n",
            "Epoch 74/100\n",
            "2102/2102 [==============================] - 11s 5ms/step - loss: 0.2493 - accuracy: 0.9169 - val_loss: 0.1667 - val_accuracy: 0.9525\n",
            "Epoch 75/100\n",
            "2102/2102 [==============================] - 11s 5ms/step - loss: 0.2465 - accuracy: 0.9183 - val_loss: 0.1640 - val_accuracy: 0.9531\n",
            "Epoch 76/100\n",
            "2102/2102 [==============================] - 11s 5ms/step - loss: 0.2461 - accuracy: 0.9165 - val_loss: 0.1705 - val_accuracy: 0.9487\n",
            "Epoch 77/100\n",
            "2102/2102 [==============================] - 13s 6ms/step - loss: 0.2434 - accuracy: 0.9188 - val_loss: 0.1662 - val_accuracy: 0.9504\n",
            "Epoch 78/100\n",
            "2102/2102 [==============================] - 12s 6ms/step - loss: 0.2388 - accuracy: 0.9196 - val_loss: 0.1668 - val_accuracy: 0.9504\n",
            "Epoch 79/100\n",
            "2102/2102 [==============================] - 11s 5ms/step - loss: 0.2417 - accuracy: 0.9185 - val_loss: 0.1650 - val_accuracy: 0.9512\n",
            "Epoch 80/100\n",
            "2102/2102 [==============================] - 11s 5ms/step - loss: 0.2367 - accuracy: 0.9203 - val_loss: 0.1624 - val_accuracy: 0.9533\n",
            "Epoch 81/100\n",
            "2102/2102 [==============================] - 11s 5ms/step - loss: 0.2344 - accuracy: 0.9205 - val_loss: 0.1618 - val_accuracy: 0.9514\n",
            "Epoch 82/100\n",
            "2102/2102 [==============================] - 11s 5ms/step - loss: 0.2323 - accuracy: 0.9214 - val_loss: 0.1613 - val_accuracy: 0.9527\n",
            "Epoch 83/100\n",
            "2102/2102 [==============================] - 11s 5ms/step - loss: 0.2323 - accuracy: 0.9213 - val_loss: 0.1582 - val_accuracy: 0.9537\n",
            "Epoch 84/100\n",
            "2102/2102 [==============================] - 12s 6ms/step - loss: 0.2296 - accuracy: 0.9226 - val_loss: 0.1519 - val_accuracy: 0.9569\n",
            "Epoch 85/100\n",
            "2102/2102 [==============================] - 12s 5ms/step - loss: 0.2251 - accuracy: 0.9254 - val_loss: 0.1513 - val_accuracy: 0.9559\n",
            "Epoch 86/100\n",
            "2102/2102 [==============================] - 10s 5ms/step - loss: 0.2221 - accuracy: 0.9251 - val_loss: 0.1520 - val_accuracy: 0.9553\n",
            "Epoch 87/100\n",
            "2102/2102 [==============================] - 11s 5ms/step - loss: 0.2237 - accuracy: 0.9238 - val_loss: 0.1516 - val_accuracy: 0.9547\n",
            "Epoch 88/100\n",
            "2102/2102 [==============================] - 11s 5ms/step - loss: 0.2192 - accuracy: 0.9269 - val_loss: 0.1498 - val_accuracy: 0.9559\n",
            "Epoch 89/100\n",
            "2102/2102 [==============================] - 11s 5ms/step - loss: 0.2207 - accuracy: 0.9255 - val_loss: 0.1496 - val_accuracy: 0.9568\n",
            "Epoch 90/100\n",
            "2102/2102 [==============================] - 11s 5ms/step - loss: 0.2174 - accuracy: 0.9265 - val_loss: 0.1546 - val_accuracy: 0.9542\n",
            "Epoch 91/100\n",
            "2102/2102 [==============================] - 12s 6ms/step - loss: 0.2153 - accuracy: 0.9263 - val_loss: 0.1498 - val_accuracy: 0.9555\n",
            "Epoch 92/100\n",
            "2102/2102 [==============================] - 11s 5ms/step - loss: 0.2134 - accuracy: 0.9271 - val_loss: 0.1454 - val_accuracy: 0.9577\n",
            "Epoch 93/100\n",
            "2102/2102 [==============================] - 11s 5ms/step - loss: 0.2108 - accuracy: 0.9280 - val_loss: 0.1494 - val_accuracy: 0.9556\n",
            "Epoch 94/100\n",
            "2102/2102 [==============================] - 11s 5ms/step - loss: 0.2137 - accuracy: 0.9275 - val_loss: 0.1448 - val_accuracy: 0.9576\n",
            "Epoch 95/100\n",
            "2102/2102 [==============================] - 11s 5ms/step - loss: 0.2110 - accuracy: 0.9287 - val_loss: 0.1423 - val_accuracy: 0.9586\n",
            "Epoch 96/100\n",
            "2102/2102 [==============================] - 11s 5ms/step - loss: 0.2073 - accuracy: 0.9310 - val_loss: 0.1389 - val_accuracy: 0.9600\n",
            "Epoch 97/100\n",
            "2102/2102 [==============================] - 11s 5ms/step - loss: 0.2084 - accuracy: 0.9286 - val_loss: 0.1411 - val_accuracy: 0.9591\n",
            "Epoch 98/100\n",
            "2102/2102 [==============================] - 11s 5ms/step - loss: 0.2033 - accuracy: 0.9319 - val_loss: 0.1438 - val_accuracy: 0.9569\n",
            "Epoch 99/100\n",
            "2102/2102 [==============================] - 11s 5ms/step - loss: 0.2065 - accuracy: 0.9296 - val_loss: 0.1415 - val_accuracy: 0.9592\n",
            "Epoch 100/100\n",
            "2102/2102 [==============================] - 11s 5ms/step - loss: 0.2053 - accuracy: 0.9299 - val_loss: 0.1451 - val_accuracy: 0.9567\n"
          ]
        },
        {
          "output_type": "display_data",
          "data": {
            "text/plain": [
              "<Figure size 432x288 with 2 Axes>"
            ],
            "image/png": "[encoded data removed]"
          },
          "metadata": {
            "needs_background": "light"
          }
        },
        {
          "output_type": "stream",
          "name": "stdout",
          "text": [
            "876/876 - 2s - loss: 0.1462 - accuracy: 0.9573 - 2s/epoch - 2ms/step\n"
          ]
        },
        {
          "output_type": "stream",
          "name": "stderr",
          "text": [
            "WARNING:tensorflow:5 out of the last 5 calls to <function Model.make_predict_function.<locals>.predict_function at 0x7f4f00e318b0> triggered tf.function retracing. Tracing is expensive and the excessive number of tracings could be due to (1) creating @tf.function repeatedly in a loop, (2) passing tensors with different shapes, (3) passing Python objects instead of tensors. For (1), please define your @tf.function outside of the loop. For (2), @tf.function has reduce_retracing=True option that can avoid unnecessary retracing. For (3), please refer to https://www.tensorflow.org/guide/function#controlling_retracing and https://www.tensorflow.org/api_docs/python/tf/function for  more details.\n"
          ]
        },
        {
          "output_type": "stream",
          "name": "stdout",
          "text": [
            "\n",
            "Test accuracy: 0.9573177099227905\n",
            "1/1 [==============================] - 0s 112ms/step\n",
            "Target: 1, Predicted label: [1]\n"
          ]
        }
      ]
    },
    {
      "cell_type": "code",
      "source": [
        "SAVED_MODEL_PATH = \"model.h5\"\n",
        "model.save(SAVED_MODEL_PATH)\n"
      ],
      "metadata": {
        "id": "BTD9uMSvNR9a"
      },
      "execution_count": 19,
      "outputs": []
    },
    {
      "cell_type": "code",
      "source": [
        "import pandas as pd"
      ],
      "metadata": {
        "id": "OV5zC4cn9apU"
      },
      "execution_count": 13,
      "outputs": []
    },
    {
      "cell_type": "code",
      "source": [
        "from google.colab import drive\n",
        "drive.mount('/content/drive')"
      ],
      "metadata": {
        "colab": {
          "base_uri": "https://localhost:8080/"
        },
        "id": "fz_KerExDf6h",
        "outputId": "1ea0b41e-74b9-473d-84eb-a874fe1fcc4c"
      },
      "execution_count": 14,
      "outputs": [
        {
          "output_type": "stream",
          "name": "stdout",
          "text": [
            "Drive already mounted at /content/drive; to attempt to forcibly remount, call drive.mount(\"/content/drive\", force_remount=True).\n"
          ]
        }
      ]
    },
    {
      "cell_type": "code",
      "source": [
        "_mapping = {\n",
        "    1:\"Bis'mi\",\n",
        "    2:\"Al-lahi\",\n",
        "    3:\"Al-rahmaani\",\n",
        "    4:\"Al-raheemi\",\n",
        "    5:\"Alhamdu\",\n",
        "    6:\"lillaahi\",\n",
        "    7:\"Rabbil\",\n",
        "    8:\"aalameen\",\n",
        "    9:\"Ar-Rahmaan\",\n",
        "    10:\"Ar-Raheem\",\n",
        "    11:\"Maaliki\",\n",
        "    12:\"Yumid\",\n",
        "    13:\"Diin\",\n",
        "    14:\"Iyyaka\",\n",
        "    15:\"Na'abudu\",\n",
        "    16:\"Iyyaka\",\n",
        "    17:\"Nasta'een\",\n",
        "    18:\"Ihdinas\",\n",
        "    19:\"Siraatal\",\n",
        "    20:\"Mustaqeem\",\n",
        "    21:\"Siraatal\",\n",
        "    22:\"Ladheena\",\n",
        "    23:\"An'amta\",\n",
        "    24:\"Alaihim\",\n",
        "    25:\"Ghayril\",\n",
        "    26:\"Maghdubi\",\n",
        "    27:\"Alaihim\",\n",
        "    28:\"Wala al-dalina\"}"
      ],
      "metadata": {
        "id": "FfMiG8AIm7Zp"
      },
      "execution_count": 20,
      "outputs": []
    },
    {
      "cell_type": "code",
      "source": [
        "SAMPLE_RATE = 22050\n",
        "TRACK_DURATION = 2 # measured in seconds\n",
        "SAMPLES_PER_TRACK = SAMPLE_RATE * TRACK_DURATION\n",
        "file = '/content/003.wav'\n",
        "\n",
        "def save_mfcc(file_path, json_path, num_mfcc=13, n_fft=2048, hop_length=512, num_segments=5):\n",
        "    mfcc_lst = []\n",
        "    # we divide the track into 5 segments\n",
        "    # to calculate sample per segment - we need to know the number of samples per track (which is the sample rate * the track duration )\n",
        "    samples_per_segment = int(SAMPLES_PER_TRACK / num_segments)\n",
        "    num_mfcc_vectors_per_segment = math.ceil(samples_per_segment / hop_length)\n",
        "\n",
        "    signal, sample_rate = librosa.load(file_path, sr=SAMPLE_RATE)\n",
        "\n",
        "    # process all segments of audio file\n",
        "    for d in range(num_segments):\n",
        "\n",
        "        # calculate start and finish sample for current segment\n",
        "        start = samples_per_segment * d\n",
        "        finish = start + samples_per_segment\n",
        "\n",
        "        # extract mfcc - for each segment of signal\n",
        "        mfcc = librosa.feature.mfcc(signal[start:finish], sample_rate, n_mfcc=num_mfcc, n_fft=n_fft, hop_length=hop_length)\n",
        "        mfcc = mfcc.T\n",
        "\n",
        "        # store only mfcc feature with expected number of vectors\n",
        "        if len(mfcc) == num_mfcc_vectors_per_segment:\n",
        "            mfcc_lst.append(mfcc.tolist())\n",
        "    return mfcc_lst"
      ],
      "metadata": {
        "id": "Be0D-fewPUFg"
      },
      "execution_count": 16,
      "outputs": []
    },
    {
      "cell_type": "code",
      "source": [
        "!pip install librosa==0.9.2"
      ],
      "metadata": {
        "id": "aUqQBLldslyj",
        "outputId": "2ef2333d-af70-4c45-9876-7d86bf03007b",
        "colab": {
          "base_uri": "https://localhost:8080/"
        }
      },
      "execution_count": 17,
      "outputs": [
        {
          "output_type": "stream",
          "name": "stdout",
          "text": [
            "Looking in indexes: https://pypi.org/simple, https://us-python.pkg.dev/colab-wheels/public/simple/\n",
            "Requirement already satisfied: librosa==0.9.2 in /usr/local/lib/python3.9/dist-packages (0.9.2)\n",
            "Requirement already satisfied: scikit-learn>=0.19.1 in /usr/local/lib/python3.9/dist-packages (from librosa==0.9.2) (1.2.2)\n",
            "Requirement already satisfied: numpy>=1.17.0 in /usr/local/lib/python3.9/dist-packages (from librosa==0.9.2) (1.22.4)\n",
            "Requirement already satisfied: scipy>=1.2.0 in /usr/local/lib/python3.9/dist-packages (from librosa==0.9.2) (1.10.1)\n",
            "Requirement already satisfied: joblib>=0.14 in /usr/local/lib/python3.9/dist-packages (from librosa==0.9.2) (1.1.1)\n",
            "Requirement already satisfied: audioread>=2.1.9 in /usr/local/lib/python3.9/dist-packages (from librosa==0.9.2) (3.0.0)\n",
            "Requirement already satisfied: resampy>=0.2.2 in /usr/local/lib/python3.9/dist-packages (from librosa==0.9.2) (0.4.2)\n",
            "Requirement already satisfied: numba>=0.45.1 in /usr/local/lib/python3.9/dist-packages (from librosa==0.9.2) (0.56.4)\n",
            "Requirement already satisfied: packaging>=20.0 in /usr/local/lib/python3.9/dist-packages (from librosa==0.9.2) (23.0)\n",
            "Requirement already satisfied: pooch>=1.0 in /usr/local/lib/python3.9/dist-packages (from librosa==0.9.2) (1.6.0)\n",
            "Requirement already satisfied: soundfile>=0.10.2 in /usr/local/lib/python3.9/dist-packages (from librosa==0.9.2) (0.12.1)\n",
            "Requirement already satisfied: decorator>=4.0.10 in /usr/local/lib/python3.9/dist-packages (from librosa==0.9.2) (4.4.2)\n",
            "Requirement already satisfied: llvmlite<0.40,>=0.39.0dev0 in /usr/local/lib/python3.9/dist-packages (from numba>=0.45.1->librosa==0.9.2) (0.39.1)\n",
            "Requirement already satisfied: setuptools in /usr/local/lib/python3.9/dist-packages (from numba>=0.45.1->librosa==0.9.2) (67.6.0)\n",
            "Requirement already satisfied: requests>=2.19.0 in /usr/local/lib/python3.9/dist-packages (from pooch>=1.0->librosa==0.9.2) (2.27.1)\n",
            "Requirement already satisfied: appdirs>=1.3.0 in /usr/local/lib/python3.9/dist-packages (from pooch>=1.0->librosa==0.9.2) (1.4.4)\n",
            "Requirement already satisfied: threadpoolctl>=2.0.0 in /usr/local/lib/python3.9/dist-packages (from scikit-learn>=0.19.1->librosa==0.9.2) (3.1.0)\n",
            "Requirement already satisfied: cffi>=1.0 in /usr/local/lib/python3.9/dist-packages (from soundfile>=0.10.2->librosa==0.9.2) (1.15.1)\n",
            "Requirement already satisfied: pycparser in /usr/local/lib/python3.9/dist-packages (from cffi>=1.0->soundfile>=0.10.2->librosa==0.9.2) (2.21)\n",
            "Requirement already satisfied: urllib3<1.27,>=1.21.1 in /usr/local/lib/python3.9/dist-packages (from requests>=2.19.0->pooch>=1.0->librosa==0.9.2) (1.26.15)\n",
            "Requirement already satisfied: charset-normalizer~=2.0.0 in /usr/local/lib/python3.9/dist-packages (from requests>=2.19.0->pooch>=1.0->librosa==0.9.2) (2.0.12)\n",
            "Requirement already satisfied: certifi>=2017.4.17 in /usr/local/lib/python3.9/dist-packages (from requests>=2.19.0->pooch>=1.0->librosa==0.9.2) (2022.12.7)\n",
            "Requirement already satisfied: idna<4,>=2.5 in /usr/local/lib/python3.9/dist-packages (from requests>=2.19.0->pooch>=1.0->librosa==0.9.2) (3.4)\n"
          ]
        }
      ]
    },
    {
      "cell_type": "code",
      "source": [],
      "metadata": {
        "id": "sMG45e0unpC2"
      },
      "execution_count": 17,
      "outputs": []
    },
    {
      "cell_type": "code",
      "source": [
        "import librosa\n",
        "import tensorflow as tf\n",
        "import numpy as np\n",
        "import math\n",
        "SAVED_MODEL_PATH = \"model.h5\"\n",
        "SAMPLE_RATE = 22050\n",
        "TRACK_DURATION = 2 # measured in seconds\n",
        "SAMPLES_PER_TRACK = SAMPLE_RATE * TRACK_DURATION\n",
        "\n",
        "class _Keyword_Spotting_Service:\n",
        "    \"\"\"Singleton class for keyword spotting inference with trained models.\n",
        "\n",
        "    :param model: Trained model\n",
        "    \"\"\"\n",
        "    \n",
        "    model = None\n",
        "    _mapping = [\n",
        "    \"Bis'mi\",\n",
        "    \"Al-lahi\",\n",
        "    \"Al-rahmaani\",\n",
        "    \"Al-raheemi\",\n",
        "    \"Alhamdu\",\n",
        "    \"lillaahi\",\n",
        "    \"Rabbil\",\n",
        "    \"aalameen\",\n",
        "    \"Ar-Rahmaan\",\n",
        "    \"Ar-Raheem\",\n",
        "    \"Maaliki\",\n",
        "    \"Yumid\",\n",
        "    \"Diin\",\n",
        "    \"Iyyaka\",\n",
        "    \"Na'abudu\",\n",
        "    \"Iyyaka\",\n",
        "    \"Nasta'een\",\n",
        "    \"Ihdinas\",\n",
        "    \"Siraatal\",\n",
        "    \"Mustaqeem\",\n",
        "    \"Siraatal\",\n",
        "    \"Ladheena\",\n",
        "    \"An'amta\",\n",
        "    \"Alaihim\",\n",
        "    \"Ghayril\",\n",
        "    \"Maghdubi\",\n",
        "    \"Alaihim\",\n",
        "    \"Wala al-dalina\"\n",
        "    ]\n",
        "    _instance = None\n",
        "\n",
        "    # generate predictions and confidence scores\n",
        "    # def predict_with_confidence(model, x):\n",
        "    #     # generate predictions and confidence scores for each input\n",
        "    #     preds = model.predict(x)\n",
        "    #     confs = int(np.max(preds, axis=-1))\n",
        "    #     return preds, confs\n",
        "\n",
        "    def predict(self, file_path):\n",
        "        \"\"\"\n",
        "\n",
        "        :param file_path (str): Path to audio file to predict\n",
        "        :return predicted_keyword (str): Keyword predicted by the model\n",
        "        \"\"\"\n",
        "\n",
        "        # extract MFCC\n",
        "        # MFCCs = np.array([[-183.87974548339844, 131.75009155273438, 2.2060155868530273, -8.105782508850098, -38.07963562011719, 17.40044403076172, -0.6676614284515381, -22.161405563354492, -10.295568466186523, 6.563896179199219, -3.6954336166381836, -11.445362091064453, 9.491683959960938], [-180.80616760253906, 115.36853790283203, -2.8926031589508057, -9.07729721069336, -52.492637634277344, 26.909496307373047, -2.7331502437591553, -14.425968170166016, -19.478710174560547, 5.680357933044434, -1.7577323913574219, -16.35490608215332, 13.524815559387207], [-192.94027709960938, 91.42437744140625, -23.93356704711914, -23.16407012939453, -60.30923843383789, 32.025535583496094, 10.04941177368164, 0.4003942012786865, -24.948360443115234, 5.307590007781982, 1.5026012659072876, -26.008087158203125, 17.219728469848633], [-175.62313842773438, 101.17229461669922, -32.41350555419922, -30.539745330810547, -64.07801055908203, 31.093017578125, 12.911539077758789, 7.282844543457031, -30.573162078857422, 7.644656658172607, 4.2728986740112305, -30.014530181884766, 20.74167251586914], [-166.6313018798828, 105.19999694824219, -35.174930572509766, -30.445606231689453, -63.564903259277344, 27.228313446044922, 14.329790115356445, 15.870038986206055, -33.5143928527832, 8.455541610717773, 7.194486618041992, -29.158828735351562, 15.765297889709473], [-166.1154327392578, 110.21952819824219, -37.62902069091797, -28.95749282836914, -62.26484298706055, 23.820415496826172, 12.333368301391602, 15.781059265136719, -34.20686340332031, 4.830765247344971, 7.3923163414001465, -27.21042251586914, 9.298351287841797], [-166.02870178222656, \n",
        "# 121.54912567138672, -45.28936004638672, -26.586345672607422, -62.76194763183594, 27.857032775878906, 8.119768142700195, 10.21646785736084, -32.60343933105469, 4.115324020385742, 6.260907173156738, -25.593948364257812, 0.23342549800872803], [-163.90133666992188, 121.15217590332031, -41.218467712402344, -18.846481323242188, -57.43403625488281, 29.522968292236328, 0.46502673625946045, 4.530104160308838, -26.924739837646484, 5.935633659362793, 5.122352600097656, -17.716205596923828, -5.116012096405029], [-134.5664825439453, 154.80996704101562, -31.109590530395508, -16.877721786499023, -54.75687789916992, 26.409751892089844, -11.305870056152344, -2.671182632446289, -19.20587921142578, 8.538867950439453, 4.430681228637695, -13.631662368774414, -4.969356060028076]])\n",
        "        MFCCs = np.array(self.preprocess(file_path))\n",
        "        \n",
        "        # we need a 4-dim array to feed to the model for prediction: (# samples, # time steps, # coefficients, 1)\n",
        "        MFCCs = MFCCs[np.newaxis, ..., np.newaxis]\n",
        "\n",
        "        # get the predicted label\n",
        "        predictions = self.model.predict(MFCCs) # a 2d array [[]]\n",
        "        predicted_index = np.argmax(predictions)\n",
        "        # index return the index which has highest score\n",
        "        confs = tf.nn.softmax(predictions)\n",
        "        # Get corresponding probability value for predicted class\n",
        "        confidence_score = predictions[0][predicted_index]\n",
        "        predicted_keyword = self._mapping[predicted_index]\n",
        "        # print('prediction',predicted_index,predicted_keyword)\n",
        "        return predicted_keyword, confidence_score\n",
        "\n",
        "\n",
        "    def preprocess(self, file_path, num_mfcc=13, n_fft=2048, hop_length=512,num_segments=10):\n",
        "        mfcc_lst = []\n",
        "        # we divide the track into 5 segments\n",
        "        # to calculate sample per segment - we need to know the number of samples per track (which is the sample rate * the track duration )\n",
        "        samples_per_segment = int(SAMPLES_PER_TRACK / num_segments)\n",
        "        num_mfcc_vectors_per_segment = math.ceil(samples_per_segment / hop_length)\n",
        "\n",
        "        signal, sample_rate = librosa.load(file_path, sr=SAMPLE_RATE)\n",
        "\n",
        "        # process all segments of audio file\n",
        "        for d in range(num_segments):\n",
        "\n",
        "            # calculate start and finish sample for current segment\n",
        "            start = samples_per_segment * d\n",
        "            finish = start + samples_per_segment\n",
        "\n",
        "            # extract mfcc - for each segment of signal\n",
        "            mfcc = librosa.feature.mfcc(signal[start:finish], sample_rate, n_mfcc=num_mfcc, n_fft=n_fft, hop_length=hop_length)\n",
        "            mfcc = mfcc.T\n",
        "\n",
        "            # store only mfcc feature with expected number of vectors\n",
        "            if len(mfcc) == num_mfcc_vectors_per_segment:\n",
        "                mfcc_lst.append(mfcc.tolist())\n",
        "        return mfcc_lst[0]\n",
        "\n",
        "\n",
        "def Keyword_Spotting_Service():\n",
        "    \"\"\"Factory function for Keyword_Spotting_Service class.\n",
        "\n",
        "    :return _Keyword_Spotting_Service._instance (_Keyword_Spotting_Service):\n",
        "    \"\"\"\n",
        "\n",
        "    # ensure an instance is created only the first time the factory function is called\n",
        "    if _Keyword_Spotting_Service._instance is None:\n",
        "        _Keyword_Spotting_Service._instance = _Keyword_Spotting_Service()\n",
        "        _Keyword_Spotting_Service.model = tf.keras.models.load_model(SAVED_MODEL_PATH)\n",
        "    return _Keyword_Spotting_Service._instance\n",
        "\n",
        "\n",
        "\n",
        "\n",
        "if __name__ == \"__main__\":\n",
        "\n",
        "    # create 2 instances of the keyword spotting service\n",
        "    kss = Keyword_Spotting_Service()\n",
        "    kss1 = Keyword_Spotting_Service()\n",
        "\n",
        "    # check that different instances of the keyword spotting service point back to the same object (singleton)\n",
        "    assert kss is kss1\n",
        "\n",
        "    # make a prediction\n",
        "    keyword, condfidence_score = kss.predict(\"002.wav\")\n",
        "    print(keyword)\n",
        "    print('Confidence',condfidence_score)"
      ],
      "metadata": {
        "colab": {
          "base_uri": "https://localhost:8080/"
        },
        "id": "q9U0v9aqn0HH",
        "outputId": "f56627b8-cc3b-4a41-a5ff-c44c02e6d38c"
      },
      "execution_count": 27,
      "outputs": [
        {
          "output_type": "stream",
          "name": "stderr",
          "text": [
            "<ipython-input-27-9804f04c18e4>:100: FutureWarning: Pass y=[0.02628682 0.03317782 0.03789439 ... 0.06536973 0.06302683 0.05670235], sr=22050 as keyword args. From version 0.10 passing these as positional arguments will result in an error\n",
            "  mfcc = librosa.feature.mfcc(signal[start:finish], sample_rate, n_mfcc=num_mfcc, n_fft=n_fft, hop_length=hop_length)\n",
            "<ipython-input-27-9804f04c18e4>:100: FutureWarning: Pass y=[0.05048585 0.05129176 0.05542339 ... 0.05260923 0.03931705 0.02578977], sr=22050 as keyword args. From version 0.10 passing these as positional arguments will result in an error\n",
            "  mfcc = librosa.feature.mfcc(signal[start:finish], sample_rate, n_mfcc=num_mfcc, n_fft=n_fft, hop_length=hop_length)\n",
            "<ipython-input-27-9804f04c18e4>:100: FutureWarning: Pass y=[0.01763017 0.01292829 0.00694799 ... 0.16284892 0.16833648 0.17078859], sr=22050 as keyword args. From version 0.10 passing these as positional arguments will result in an error\n",
            "  mfcc = librosa.feature.mfcc(signal[start:finish], sample_rate, n_mfcc=num_mfcc, n_fft=n_fft, hop_length=hop_length)\n",
            "<ipython-input-27-9804f04c18e4>:100: FutureWarning: Pass y=[ 0.17023386  0.1445559   0.11728735 ... -0.247976   -0.21162751\n",
            " -0.17117757], sr=22050 as keyword args. From version 0.10 passing these as positional arguments will result in an error\n",
            "  mfcc = librosa.feature.mfcc(signal[start:finish], sample_rate, n_mfcc=num_mfcc, n_fft=n_fft, hop_length=hop_length)\n",
            "<ipython-input-27-9804f04c18e4>:100: FutureWarning: Pass y=[-0.15783417 -0.15813784 -0.19044383 ... -0.19742785 -0.14594273\n",
            "  0.        ], sr=22050 as keyword args. From version 0.10 passing these as positional arguments will result in an error\n",
            "  mfcc = librosa.feature.mfcc(signal[start:finish], sample_rate, n_mfcc=num_mfcc, n_fft=n_fft, hop_length=hop_length)\n",
            "<ipython-input-27-9804f04c18e4>:100: FutureWarning: Pass y=[], sr=22050 as keyword args. From version 0.10 passing these as positional arguments will result in an error\n",
            "  mfcc = librosa.feature.mfcc(signal[start:finish], sample_rate, n_mfcc=num_mfcc, n_fft=n_fft, hop_length=hop_length)\n"
          ]
        },
        {
          "output_type": "stream",
          "name": "stdout",
          "text": [
            "1/1 [==============================] - 0s 165ms/step\n",
            "lillaahi\n",
            "Confidence 0.99961436\n"
          ]
        }
      ]
    },
    {
      "cell_type": "markdown",
      "source": [
        "## try to Split audio and to predict each word"
      ],
      "metadata": {
        "id": "SgczfLOKN0lU"
      }
    },
    {
      "cell_type": "code",
      "source": [
        "audio = ['test3.wav']\n",
        "Ayah = []\n",
        "for f in audio:\n",
        "  # create 2 instances of the keyword spotting service\n",
        "    kss = Keyword_Spotting_Service()\n",
        "    kss1 = Keyword_Spotting_Service()\n",
        "\n",
        "    # check that different instances of the keyword spotting service point back to the same object (singleton)\n",
        "    assert kss is kss1\n",
        "\n",
        "    # make a prediction\n",
        "    keyword, condfidence_score = kss.predict(f)\n",
        "    print(keyword)\n",
        "    \n",
        "    print('Confidence',condfidence_score)\n",
        "    if condfidence_score >.7:\n",
        "      Ayah.append(keyword)\n"
      ],
      "metadata": {
        "id": "-B19MgJooI3F",
        "outputId": "c9abb0f0-7ffc-48ab-adfa-dedb15788d32",
        "colab": {
          "base_uri": "https://localhost:8080/"
        }
      },
      "execution_count": 44,
      "outputs": [
        {
          "output_type": "stream",
          "name": "stdout",
          "text": [
            "1/1 [==============================] - 0s 30ms/step\n",
            "Na'abudu\n",
            "Confidence 0.58477926\n"
          ]
        },
        {
          "output_type": "stream",
          "name": "stderr",
          "text": [
            "<ipython-input-27-9804f04c18e4>:100: FutureWarning: Pass y=[-0.00873394 -0.01433475 -0.01386717 ... -0.01177989 -0.00525943\n",
            "  0.00422414], sr=22050 as keyword args. From version 0.10 passing these as positional arguments will result in an error\n",
            "  mfcc = librosa.feature.mfcc(signal[start:finish], sample_rate, n_mfcc=num_mfcc, n_fft=n_fft, hop_length=hop_length)\n",
            "<ipython-input-27-9804f04c18e4>:100: FutureWarning: Pass y=[0.01262137 0.0186716  0.02377728 ... 0.06622896 0.06485698 0.06262731], sr=22050 as keyword args. From version 0.10 passing these as positional arguments will result in an error\n",
            "  mfcc = librosa.feature.mfcc(signal[start:finish], sample_rate, n_mfcc=num_mfcc, n_fft=n_fft, hop_length=hop_length)\n",
            "<ipython-input-27-9804f04c18e4>:100: FutureWarning: Pass y=[ 0.05842116  0.05321707  0.04928912 ... -0.09084725 -0.0872895\n",
            " -0.09458985], sr=22050 as keyword args. From version 0.10 passing these as positional arguments will result in an error\n",
            "  mfcc = librosa.feature.mfcc(signal[start:finish], sample_rate, n_mfcc=num_mfcc, n_fft=n_fft, hop_length=hop_length)\n",
            "<ipython-input-27-9804f04c18e4>:100: FutureWarning: Pass y=[-0.10580225 -0.11466143 -0.12125018 ... -0.06296474 -0.08495137\n",
            " -0.10425947], sr=22050 as keyword args. From version 0.10 passing these as positional arguments will result in an error\n",
            "  mfcc = librosa.feature.mfcc(signal[start:finish], sample_rate, n_mfcc=num_mfcc, n_fft=n_fft, hop_length=hop_length)\n",
            "<ipython-input-27-9804f04c18e4>:100: FutureWarning: Pass y=[-0.12308238 -0.14151621 -0.15630935 ...  0.01831005  0.03976179\n",
            "  0.05070899], sr=22050 as keyword args. From version 0.10 passing these as positional arguments will result in an error\n",
            "  mfcc = librosa.feature.mfcc(signal[start:finish], sample_rate, n_mfcc=num_mfcc, n_fft=n_fft, hop_length=hop_length)\n",
            "<ipython-input-27-9804f04c18e4>:100: FutureWarning: Pass y=[ 0.05983699  0.07013817  0.0764285  ... -0.04274204 -0.03529769\n",
            " -0.0214678 ], sr=22050 as keyword args. From version 0.10 passing these as positional arguments will result in an error\n",
            "  mfcc = librosa.feature.mfcc(signal[start:finish], sample_rate, n_mfcc=num_mfcc, n_fft=n_fft, hop_length=hop_length)\n",
            "<ipython-input-27-9804f04c18e4>:100: FutureWarning: Pass y=[-3.4357023e-03  1.5586036e-02  3.3769887e-02 ... -2.4227328e-03\n",
            " -5.5027878e-05  1.9539287e-03], sr=22050 as keyword args. From version 0.10 passing these as positional arguments will result in an error\n",
            "  mfcc = librosa.feature.mfcc(signal[start:finish], sample_rate, n_mfcc=num_mfcc, n_fft=n_fft, hop_length=hop_length)\n",
            "<ipython-input-27-9804f04c18e4>:100: FutureWarning: Pass y=[ 0.00502215  0.00864099  0.01223374 ... -0.06448279 -0.0578417\n",
            " -0.04984703], sr=22050 as keyword args. From version 0.10 passing these as positional arguments will result in an error\n",
            "  mfcc = librosa.feature.mfcc(signal[start:finish], sample_rate, n_mfcc=num_mfcc, n_fft=n_fft, hop_length=hop_length)\n",
            "<ipython-input-27-9804f04c18e4>:100: FutureWarning: Pass y=[-0.04033626 -0.03036539 -0.02266889 ... -0.00803005 -0.01020391\n",
            " -0.01354833], sr=22050 as keyword args. From version 0.10 passing these as positional arguments will result in an error\n",
            "  mfcc = librosa.feature.mfcc(signal[start:finish], sample_rate, n_mfcc=num_mfcc, n_fft=n_fft, hop_length=hop_length)\n",
            "<ipython-input-27-9804f04c18e4>:100: FutureWarning: Pass y=[-0.01690747 -0.01816054 -0.01648924 ...  0.03463819  0.03723989\n",
            "  0.02302227], sr=22050 as keyword args. From version 0.10 passing these as positional arguments will result in an error\n",
            "  mfcc = librosa.feature.mfcc(signal[start:finish], sample_rate, n_mfcc=num_mfcc, n_fft=n_fft, hop_length=hop_length)\n"
          ]
        }
      ]
    },
    {
      "cell_type": "code",
      "source": [
        "Ayah"
      ],
      "metadata": {
        "id": "M86ow0HKPtWJ",
        "outputId": "e6da79ab-b05b-4ac1-ec95-e458a04afb70",
        "colab": {
          "base_uri": "https://localhost:8080/"
        }
      },
      "execution_count": 45,
      "outputs": [
        {
          "output_type": "execute_result",
          "data": {
            "text/plain": [
              "[]"
            ]
          },
          "metadata": {},
          "execution_count": 45
        }
      ]
    },
    {
      "cell_type": "code",
      "source": [],
      "metadata": {
        "id": "Bnm2dP2oQKOp"
      },
      "execution_count": null,
      "outputs": []
    }
  ]
}